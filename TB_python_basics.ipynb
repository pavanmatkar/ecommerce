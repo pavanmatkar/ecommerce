{
  "nbformat": 4,
  "nbformat_minor": 0,
  "metadata": {
    "colab": {
      "name": "TB-python_basics.ipynb",
      "provenance": [],
      "collapsed_sections": [],
      "authorship_tag": "ABX9TyNSCG3zXQWTIrLjNQrFl41j",
      "include_colab_link": true
    },
    "kernelspec": {
      "name": "python3",
      "display_name": "Python 3"
    },
    "language_info": {
      "name": "python"
    }
  },
  "cells": [
    {
      "cell_type": "markdown",
      "metadata": {
        "id": "view-in-github",
        "colab_type": "text"
      },
      "source": [
        "<a href=\"https://colab.research.google.com/github/pavanmatkar123/ECommerce/blob/master/TB_python_basics.ipynb\" target=\"_parent\"><img src=\"https://colab.research.google.com/assets/colab-badge.svg\" alt=\"Open In Colab\"/></a>"
      ]
    },
    {
      "cell_type": "code",
      "execution_count": null,
      "metadata": {
        "colab": {
          "base_uri": "https://localhost:8080/"
        },
        "id": "qIKZyz_u1Guc",
        "outputId": "d1a7e382-c2fb-4630-abff-5028abe0ce79"
      },
      "outputs": [
        {
          "output_type": "stream",
          "name": "stdout",
          "text": [
            "hello world\n"
          ]
        }
      ],
      "source": [
        "#first class\n",
        "print(\"hello world\")"
      ]
    },
    {
      "cell_type": "code",
      "source": [
        "a = \"Hello World\"\n",
        "print(a[0])\n",
        "print(a[1])\n",
        "print(a[2])"
      ],
      "metadata": {
        "colab": {
          "base_uri": "https://localhost:8080/"
        },
        "id": "4fP94HOp1KhX",
        "outputId": "ce34bc20-8e09-4e4e-95f4-96f713837ba4"
      },
      "execution_count": null,
      "outputs": [
        {
          "output_type": "stream",
          "name": "stdout",
          "text": [
            "H\n",
            "e\n",
            "l\n"
          ]
        }
      ]
    },
    {
      "cell_type": "code",
      "source": [
        "#single assignment operator\n",
        "a = 4 \n",
        "print(a)"
      ],
      "metadata": {
        "colab": {
          "base_uri": "https://localhost:8080/"
        },
        "id": "VJt008DH2BBe",
        "outputId": "68cd24d3-3298-4c25-a9a0-062dcf14023f"
      },
      "execution_count": null,
      "outputs": [
        {
          "output_type": "stream",
          "name": "stdout",
          "text": [
            "4\n"
          ]
        }
      ]
    },
    {
      "cell_type": "code",
      "source": [
        "#multiple assignment operator\n",
        "name,age,gender = \"anil\", 24, \"male\"\n",
        "print(name)\n",
        "print(age,gender)"
      ],
      "metadata": {
        "colab": {
          "base_uri": "https://localhost:8080/"
        },
        "id": "xwt6gWE93Gga",
        "outputId": "8704ab3a-1bc2-46b6-cab2-a7bf36632c76"
      },
      "execution_count": null,
      "outputs": [
        {
          "output_type": "stream",
          "name": "stdout",
          "text": [
            "anil\n",
            "24 male\n"
          ]
        }
      ]
    },
    {
      "cell_type": "code",
      "source": [
        "a=5 \n",
        "print(\"anil is \", +a)"
      ],
      "metadata": {
        "colab": {
          "base_uri": "https://localhost:8080/"
        },
        "id": "vjD2vEbH3TxK",
        "outputId": "b799ee5e-e2e1-4480-c7e5-508deb26f59b"
      },
      "execution_count": null,
      "outputs": [
        {
          "output_type": "stream",
          "name": "stdout",
          "text": [
            "anil is  5\n"
          ]
        }
      ]
    },
    {
      "cell_type": "code",
      "source": [
        "a=5 \n",
        "print(\"anil is\",a,\"years old \")"
      ],
      "metadata": {
        "colab": {
          "base_uri": "https://localhost:8080/"
        },
        "id": "AFU9AfQZ4N-_",
        "outputId": "4cf482b9-0682-434c-914d-af9515f66636"
      },
      "execution_count": null,
      "outputs": [
        {
          "output_type": "stream",
          "name": "stdout",
          "text": [
            "anil is 5 years old \n"
          ]
        }
      ]
    },
    {
      "cell_type": "code",
      "source": [
        "print(\"rahul\"+ \" \"+\"Sharma\")"
      ],
      "metadata": {
        "id": "vLDi_YGC5i6_",
        "colab": {
          "base_uri": "https://localhost:8080/"
        },
        "outputId": "dce23fce-b9dd-43a5-bb17-34314335fb13"
      },
      "execution_count": null,
      "outputs": [
        {
          "output_type": "stream",
          "name": "stdout",
          "text": [
            "rahul Sharma\n"
          ]
        }
      ]
    },
    {
      "cell_type": "code",
      "source": [
        "a=4\n",
        "b=7\n",
        "print(\"the output of addition \", a+b)\n",
        "print(\"the output of substraction \", a-b)\n",
        "print(\"the output of multiplication \", a*b)\n",
        "print(\"the output of division \", a/b)\n",
        "print(\"the output of reminder \", b%a)\n",
        "print(\"the output of exponential \", a**b)\n",
        "print(\"the output of round off \", 15//2)"
      ],
      "metadata": {
        "colab": {
          "base_uri": "https://localhost:8080/"
        },
        "id": "0CFInsfR6kTo",
        "outputId": "c4636a23-b781-484b-e4d6-a59c09cb17f7"
      },
      "execution_count": null,
      "outputs": [
        {
          "output_type": "stream",
          "name": "stdout",
          "text": [
            "the output of addition  11\n",
            "the output of substraction  -3\n",
            "the output of multiplication  28\n",
            "the output of division  0.5714285714285714\n",
            "the output of reminder  3\n",
            "the output of exponential  16384\n",
            "the output of round off  7\n"
          ]
        }
      ]
    },
    {
      "cell_type": "code",
      "source": [
        "#comparison operator\n",
        "print(\"the output of a is greater than b\", a>b )\n",
        "print(\"the output of a is smaller than b\", a<b )\n",
        "print(\"the output of a is equal to b\", a==b )\n",
        "print(\"the output of a is greater than or equal to b\", a>=b )\n",
        "print(\"the output of a is smaller than or equal to b\", a<=b )\n",
        "print(\"the output of a is not equal to b\", a!=b )"
      ],
      "metadata": {
        "colab": {
          "base_uri": "https://localhost:8080/"
        },
        "id": "Dy7I8s5v8BWB",
        "outputId": "7278b1fb-8f2f-44da-904b-a7e571a9b2ed"
      },
      "execution_count": null,
      "outputs": [
        {
          "output_type": "stream",
          "name": "stdout",
          "text": [
            "the output of a is greater than b False\n",
            "the output of a is smaller than b True\n",
            "the output of a is equal to b False\n",
            "the output of a is greater than or equal to b False\n",
            "the output of a is smaller than or equal to b True\n",
            "the output of a is not equal to b True\n"
          ]
        }
      ]
    },
    {
      "cell_type": "code",
      "source": [
        "#logical operator\n",
        "#and operator\n",
        "#or operator\n",
        "#and operator needs two conditions to be true\n",
        "#or operator needs atleast one of the two conditions to be true.\n",
        "print(\"the output of AND is\", (a>1 and a<7))\n",
        "print(\"the output of AND is\", (a>5 and a<7))\n",
        "print(\"the output of AND is\", (a>1 and a<3))\n",
        "print(\"the output of AND is\", (a>1 and a<3))\n",
        "#############################################\n",
        "print(\"the output of OR is\", (a>1 or a<7))\n",
        "print(\"the output of OR is\", (a>5 or a<7))\n",
        "print(\"the output of OR is\", (a>1 or a<2))\n",
        "print(\"the output of OR is\", (a>5 and a<3))"
      ],
      "metadata": {
        "colab": {
          "base_uri": "https://localhost:8080/"
        },
        "id": "NNgYmVW89vSy",
        "outputId": "fed03980-c301-4262-e94c-fb6cc4af030c"
      },
      "execution_count": null,
      "outputs": [
        {
          "output_type": "stream",
          "name": "stdout",
          "text": [
            "the output of AND is True\n",
            "the output of AND is False\n",
            "the output of AND is False\n",
            "the output of AND is False\n",
            "the output of OR is True\n",
            "the output of AND is True\n",
            "the output of AND is True\n",
            "the output of AND is False\n"
          ]
        }
      ]
    },
    {
      "cell_type": "code",
      "source": [
        "#membrship operator\n",
        "# in , not in\n",
        "a = [\"apple\", 20]\n",
        "print(\"apple\" in a)\n",
        "print (\"mango\" not in a)"
      ],
      "metadata": {
        "colab": {
          "base_uri": "https://localhost:8080/"
        },
        "id": "8BQHeyL-ANs9",
        "outputId": "a0e6da77-4dac-48be-a6a5-489cfa6d2092"
      },
      "execution_count": null,
      "outputs": [
        {
          "output_type": "stream",
          "name": "stdout",
          "text": [
            "True\n",
            "True\n"
          ]
        }
      ]
    },
    {
      "cell_type": "code",
      "source": [
        "#identity operator\n",
        "# is, is not\n",
        "a = [\"apple\", 20]\n",
        "b=a\n",
        "print(b is a)\n",
        "print (b is not a)\n",
        "print(a is b)\n",
        "print (a is not b)"
      ],
      "metadata": {
        "colab": {
          "base_uri": "https://localhost:8080/"
        },
        "id": "HKgj8G-JBuCt",
        "outputId": "da35fc04-fb1c-412b-e75e-59ea3fa78554"
      },
      "execution_count": null,
      "outputs": [
        {
          "output_type": "stream",
          "name": "stdout",
          "text": [
            "True\n",
            "False\n",
            "True\n",
            "False\n"
          ]
        }
      ]
    },
    {
      "cell_type": "code",
      "source": [
        "#input \n",
        "name= input(\"enter your name:\")\n",
        "print(\"the name is :\", name)"
      ],
      "metadata": {
        "colab": {
          "base_uri": "https://localhost:8080/"
        },
        "id": "Au9iaMeJC9YH",
        "outputId": "f5b5cc53-e3fc-4a38-a0f4-c29afd5e5b3f"
      },
      "execution_count": null,
      "outputs": [
        {
          "output_type": "stream",
          "name": "stdout",
          "text": [
            "enter your name:anil\n",
            "the name is : anil\n"
          ]
        }
      ]
    },
    {
      "cell_type": "code",
      "source": [
        "a = int(input(\"the value of a is:\"))\n",
        "b = int(input(\"the value of b is:\"))\n",
        "print(a + b)"
      ],
      "metadata": {
        "colab": {
          "base_uri": "https://localhost:8080/"
        },
        "id": "1oAFWayrDmK_",
        "outputId": "c1b8747c-7c67-45e7-f3d1-48bbb1760f0b"
      },
      "execution_count": null,
      "outputs": [
        {
          "output_type": "stream",
          "name": "stdout",
          "text": [
            "the value of a is:1\n",
            "the value of b is:2\n",
            "3\n"
          ]
        }
      ]
    },
    {
      "cell_type": "code",
      "source": [
        "#second class\n",
        "#datatypes date:[30-07-22]\n",
        "a = 5 \n",
        "print(type(a))"
      ],
      "metadata": {
        "colab": {
          "base_uri": "https://localhost:8080/"
        },
        "id": "G-zGBBN4ObiW",
        "outputId": "eac31396-f239-43f3-d594-029743045d22"
      },
      "execution_count": null,
      "outputs": [
        {
          "output_type": "stream",
          "name": "stdout",
          "text": [
            "<class 'int'>\n"
          ]
        }
      ]
    },
    {
      "cell_type": "code",
      "source": [
        "#number\n",
        "#type casting\n",
        "a = float(5)\n",
        "print(a)\n",
        "print(complex(5))\n",
        "print(int(5.0))\n"
      ],
      "metadata": {
        "id": "T_QSuQhQD90v",
        "colab": {
          "base_uri": "https://localhost:8080/"
        },
        "outputId": "785f075d-af99-44a5-e612-869de2c328e3"
      },
      "execution_count": null,
      "outputs": [
        {
          "output_type": "stream",
          "name": "stdout",
          "text": [
            "5.0\n",
            "(5+0j)\n",
            "5\n"
          ]
        }
      ]
    },
    {
      "cell_type": "code",
      "source": [
        "#string\n",
        "a = \"Hello World\"\n",
        "print(a[1])\n",
        "print(a[1:7])"
      ],
      "metadata": {
        "colab": {
          "base_uri": "https://localhost:8080/"
        },
        "id": "oA-55veYOkpS",
        "outputId": "16293298-370b-4185-ad4b-7e930b2fca48"
      },
      "execution_count": null,
      "outputs": [
        {
          "output_type": "stream",
          "name": "stdout",
          "text": [
            "e\n",
            "ello W\n"
          ]
        }
      ]
    },
    {
      "cell_type": "code",
      "source": [
        "#case change\n",
        "a = \"HeLlo\"\n",
        "b = \"WORLD\"\n",
        "print(a.upper())\n",
        "print(b.lower())"
      ],
      "metadata": {
        "colab": {
          "base_uri": "https://localhost:8080/"
        },
        "id": "exyenb12PsMC",
        "outputId": "0f741309-1e5d-49c0-e6ce-7b3c6645f91a"
      },
      "execution_count": null,
      "outputs": [
        {
          "output_type": "stream",
          "name": "stdout",
          "text": [
            "HELLO\n",
            "world\n"
          ]
        }
      ]
    },
    {
      "cell_type": "code",
      "source": [
        "#find\n",
        "a = \"Hello \"\n",
        "print(a.find(\"ll\"))"
      ],
      "metadata": {
        "colab": {
          "base_uri": "https://localhost:8080/"
        },
        "id": "fHSkeTcpQzAO",
        "outputId": "be77a607-9497-4406-cab4-04d6f92e84ca"
      },
      "execution_count": null,
      "outputs": [
        {
          "output_type": "stream",
          "name": "stdout",
          "text": [
            "2\n"
          ]
        }
      ]
    },
    {
      "cell_type": "code",
      "source": [
        "#replace\n",
        "a = \"Hello Student\"\n",
        "print(a.replace(\"Hello\",\"Hi\"))"
      ],
      "metadata": {
        "colab": {
          "base_uri": "https://localhost:8080/"
        },
        "id": "Op7h-YyzRIxT",
        "outputId": "b7aa8e67-2439-42ea-ce9a-0c1000300e9c"
      },
      "execution_count": null,
      "outputs": [
        {
          "output_type": "stream",
          "name": "stdout",
          "text": [
            "Hi Student\n"
          ]
        }
      ]
    },
    {
      "cell_type": "code",
      "source": [
        "#join\n",
        "\" \".join([\"I\",\"am\",\"a\",\"student\"])"
      ],
      "metadata": {
        "colab": {
          "base_uri": "https://localhost:8080/",
          "height": 36
        },
        "id": "Rs-iqkqpR0wo",
        "outputId": "0e927ecc-0c3f-4bf3-d789-2a9f0b42f105"
      },
      "execution_count": null,
      "outputs": [
        {
          "output_type": "execute_result",
          "data": {
            "text/plain": [
              "'I am a student'"
            ],
            "application/vnd.google.colaboratory.intrinsic+json": {
              "type": "string"
            }
          },
          "metadata": {},
          "execution_count": 30
        }
      ]
    },
    {
      "cell_type": "code",
      "source": [
        "#split\n",
        "\"I am a student\".split()"
      ],
      "metadata": {
        "colab": {
          "base_uri": "https://localhost:8080/"
        },
        "id": "msh5eWIjSLXT",
        "outputId": "74f6f859-b477-4519-e11b-6e27df46ba0b"
      },
      "execution_count": null,
      "outputs": [
        {
          "output_type": "execute_result",
          "data": {
            "text/plain": [
              "['I', 'am', 'a', 'student']"
            ]
          },
          "metadata": {},
          "execution_count": 32
        }
      ]
    },
    {
      "cell_type": "code",
      "source": [
        "#list \n",
        "list()"
      ],
      "metadata": {
        "colab": {
          "base_uri": "https://localhost:8080/"
        },
        "id": "Kru24nkuS64F",
        "outputId": "5139f033-34d1-4855-a32b-51b08c637f0f"
      },
      "execution_count": null,
      "outputs": [
        {
          "output_type": "execute_result",
          "data": {
            "text/plain": [
              "[]"
            ]
          },
          "metadata": {},
          "execution_count": 36
        }
      ]
    },
    {
      "cell_type": "code",
      "source": [
        "\n",
        "a = [\"apple\",20,30.5]\n",
        "print(a)\n",
        "type(a)\n",
        "len(a)\n",
        "print(a[0:2])"
      ],
      "metadata": {
        "colab": {
          "base_uri": "https://localhost:8080/"
        },
        "id": "CLMuB7LZUKTu",
        "outputId": "0e351887-8316-489b-f434-e587414ee5e3"
      },
      "execution_count": null,
      "outputs": [
        {
          "output_type": "stream",
          "name": "stdout",
          "text": [
            "['apple', 20, 30.5]\n",
            "['apple', 20]\n"
          ]
        }
      ]
    },
    {
      "cell_type": "code",
      "source": [
        "#length\n",
        "a = \"Hello World\"\n",
        "len(a)\n",
        "#type(a)\n"
      ],
      "metadata": {
        "colab": {
          "base_uri": "https://localhost:8080/"
        },
        "id": "Z9TwvhA4UhZH",
        "outputId": "a6611573-2a9e-48d1-d9f8-7e36456febe7"
      },
      "execution_count": null,
      "outputs": [
        {
          "output_type": "execute_result",
          "data": {
            "text/plain": [
              "11"
            ]
          },
          "metadata": {},
          "execution_count": 46
        }
      ]
    },
    {
      "cell_type": "code",
      "source": [
        "#update\n",
        "a = [\"apple\",20,30]\n",
        "a[1] = \"banana\"\n",
        "print(a)"
      ],
      "metadata": {
        "colab": {
          "base_uri": "https://localhost:8080/"
        },
        "id": "IZFFTgcXVRDW",
        "outputId": "dccb910f-490e-4adc-fe08-b6ad968543a1"
      },
      "execution_count": null,
      "outputs": [
        {
          "output_type": "stream",
          "name": "stdout",
          "text": [
            "['apple', 'banana', 30]\n"
          ]
        }
      ]
    },
    {
      "cell_type": "code",
      "source": [
        "#multiple update\n",
        "a = [10,20,30,40,50]\n",
        "a[1:4] = [60,70,80]\n",
        "print(a)"
      ],
      "metadata": {
        "colab": {
          "base_uri": "https://localhost:8080/"
        },
        "id": "CbS5mPH8WOdN",
        "outputId": "cc53c6cd-1735-46b1-bfac-076d271385b7"
      },
      "execution_count": null,
      "outputs": [
        {
          "output_type": "stream",
          "name": "stdout",
          "text": [
            "[10, 60, 70, 80, 50]\n"
          ]
        }
      ]
    },
    {
      "cell_type": "code",
      "source": [
        "#mutable means we can change the value after defining it...\n",
        "#append\n",
        "a = [\"apple\",\"banana\"]\n",
        "a.append(\"mango\")\n",
        "print(a)"
      ],
      "metadata": {
        "colab": {
          "base_uri": "https://localhost:8080/"
        },
        "id": "FUOH34NNWvLN",
        "outputId": "a0e65193-d436-44b3-90f2-a057865bc798"
      },
      "execution_count": null,
      "outputs": [
        {
          "output_type": "stream",
          "name": "stdout",
          "text": [
            "['apple', 'banana', 'mango']\n"
          ]
        }
      ]
    },
    {
      "cell_type": "code",
      "source": [
        "#insert\n",
        "b=[10,20,30,40,50,60]\n",
        "b.insert(1,90)\n",
        "print(b)\n",
        "b.insert(-1,88)\n",
        "print(b)"
      ],
      "metadata": {
        "colab": {
          "base_uri": "https://localhost:8080/"
        },
        "id": "1eKGtLbWZHQ2",
        "outputId": "54e5eb84-a9b4-4053-fb7b-60bbaa870e70"
      },
      "execution_count": null,
      "outputs": [
        {
          "output_type": "stream",
          "name": "stdout",
          "text": [
            "[10, 90, 20, 30, 40, 50, 60]\n",
            "[10, 90, 20, 30, 40, 50, 88, 60]\n"
          ]
        }
      ]
    },
    {
      "cell_type": "code",
      "source": [
        "### there was a problem in this code it should insert in the last position but it inserting in the last second\n",
        "list=[\"apple\",\"banana\",20,20.5,30]\n",
        "list.insert(-1,\"mango\")\n",
        "print(list)"
      ],
      "metadata": {
        "colab": {
          "base_uri": "https://localhost:8080/"
        },
        "id": "pS0dimhFZ4eE",
        "outputId": "7a8c6852-3057-4f65-c60e-c028d0083819"
      },
      "execution_count": null,
      "outputs": [
        {
          "output_type": "stream",
          "name": "stdout",
          "text": [
            "['apple', 'banana', 20, 20.5, 'mango', 30]\n"
          ]
        }
      ]
    },
    {
      "cell_type": "code",
      "source": [
        "list1=[20,30,40,50]\n",
        "list2=[60,70,80,90]\n",
        "list1.extend(list2)\n",
        "print(list1)"
      ],
      "metadata": {
        "colab": {
          "base_uri": "https://localhost:8080/"
        },
        "id": "Q9dExl6xcubC",
        "outputId": "bb9a0996-a0ba-48c6-9a71-9dbb5e8b0474"
      },
      "execution_count": null,
      "outputs": [
        {
          "output_type": "stream",
          "name": "stdout",
          "text": [
            "[20, 30, 40, 50, 60, 70, 80, 90]\n"
          ]
        }
      ]
    },
    {
      "cell_type": "code",
      "source": [
        "list3=[1,2,3,4,5]\n",
        "list1.extend(list3)\n",
        "print(list1)"
      ],
      "metadata": {
        "colab": {
          "base_uri": "https://localhost:8080/"
        },
        "id": "gIqIyWfgc5lb",
        "outputId": "13ff75b1-a669-4156-e5e5-15d1308f2a28"
      },
      "execution_count": null,
      "outputs": [
        {
          "output_type": "stream",
          "name": "stdout",
          "text": [
            "[20, 30, 40, 50, 60, 70, 80, 90, 1, 2, 3, 4, 5, 1, 2, 3, 4, 5]\n"
          ]
        }
      ]
    },
    {
      "cell_type": "code",
      "source": [
        "#extend\n",
        "list4=[6,7,8,9,10]\n",
        "list1.extend(list4)\n",
        "print(list1)"
      ],
      "metadata": {
        "colab": {
          "base_uri": "https://localhost:8080/"
        },
        "id": "1rgxIujvdRmg",
        "outputId": "b163059c-ef8e-4383-84f5-7a70e5a53cd1"
      },
      "execution_count": null,
      "outputs": [
        {
          "output_type": "stream",
          "name": "stdout",
          "text": [
            "[20, 30, 40, 50, 60, 70, 80, 90, 1, 2, 3, 4, 5, 1, 2, 3, 4, 5, 6, 7, 8, 9, 10]\n"
          ]
        }
      ]
    },
    {
      "cell_type": "code",
      "source": [
        "#remove\n",
        "a = [\"apple\",\"mango\",\"banana\"]\n",
        "a.remove(\"banana\")\n",
        "print(a)"
      ],
      "metadata": {
        "colab": {
          "base_uri": "https://localhost:8080/"
        },
        "id": "M51FKH7bdeMd",
        "outputId": "4bc4332b-3491-488e-a232-7396719b1f2b"
      },
      "execution_count": null,
      "outputs": [
        {
          "output_type": "stream",
          "name": "stdout",
          "text": [
            "['apple', 'mango']\n"
          ]
        }
      ]
    },
    {
      "cell_type": "code",
      "source": [
        "a.pop(1)\n",
        "print(a)"
      ],
      "metadata": {
        "colab": {
          "base_uri": "https://localhost:8080/"
        },
        "id": "AgxL1zqnfWvN",
        "outputId": "0525ac5c-49d3-4e79-e0d8-0bd2d295854a"
      },
      "execution_count": null,
      "outputs": [
        {
          "output_type": "stream",
          "name": "stdout",
          "text": [
            "['apple']\n"
          ]
        }
      ]
    },
    {
      "cell_type": "code",
      "source": [
        "list1=[\"apple\"]\n",
        "del list1"
      ],
      "metadata": {
        "id": "GzmbPbVmfmDS"
      },
      "execution_count": null,
      "outputs": []
    },
    {
      "cell_type": "code",
      "source": [
        "del a"
      ],
      "metadata": {
        "id": "5oq4zZd5foSr"
      },
      "execution_count": null,
      "outputs": []
    },
    {
      "cell_type": "code",
      "source": [
        ""
      ],
      "metadata": {
        "id": "qjOFnCKogsYy"
      },
      "execution_count": null,
      "outputs": []
    }
  ]
}